{
  "cells": [
    {
      "cell_type": "markdown",
      "metadata": {
        "id": "szzYxLGVkKb7"
      },
      "source": [
        "# Welcome to the start of your adventure in Agentic AI"
      ]
    },
    {
      "cell_type": "markdown",
      "metadata": {
        "id": "wiaZqjKzkKb9"
      },
      "source": [
        "<table style=\"margin: 0; text-align: left; width:100%\">\n",
        "    <tr>\n",
        "        <td style=\"width: 150px; height: 150px; vertical-align: middle;\">\n",
        "            <img src=\"https://github.com/yatishkumarbn/agenticai_course/blob/main/assets/stop.png?raw=1\" width=\"150\" height=\"150\" style=\"display: block;\" />\n",
        "        </td>\n",
        "        <td>\n",
        "            <h2 style=\"color:#ff7800;\">Are you ready for action??</h2>\n",
        "            <span style=\"color:#ff7800;\">Have you completed all the setup steps in the <a href=\"../setup/\">setup</a> folder?<br/>\n",
        "            Have you checked out the guides in the <a href=\"../guides/01_intro.ipynb\">guides</a> folder?<br/>\n",
        "            Well in that case, you're ready!!\n",
        "            </span>\n",
        "        </td>\n",
        "    </tr>\n",
        "</table>"
      ]
    },
    {
      "cell_type": "markdown",
      "metadata": {
        "id": "aoUO4vPBkKb9"
      },
      "source": [
        "<table style=\"margin: 0; text-align: left; width:100%\">\n",
        "    <tr>\n",
        "        <td style=\"width: 150px; height: 150px; vertical-align: middle;\">\n",
        "            <img src=\"https://github.com/yatishkumarbn/agenticai_course/blob/main/assets/tools.png?raw=1\" width=\"150\" height=\"150\" style=\"display: block;\" />\n",
        "        </td>\n",
        "        <td>\n",
        "            <h2 style=\"color:#00bfff;\">This code is a live resource - keep an eye out for my updates</h2>\n",
        "            <span style=\"color:#00bfff;\">I push updates regularly. As people ask questions or have problems, I add more examples and improve explanations. As a result, the code below might not be identical to the videos, as I've added more steps and better comments. Consider this like an interactive book that accompanies the lectures.<br/><br/>\n",
        "            I try to send emails regularly with important updates related to the course. You can find this in the 'Announcements' section of Udemy in the left sidebar. You can also choose to receive my emails via your Notification Settings in Udemy. I'm respectful of your inbox and always try to add value with my emails!\n",
        "            </span>\n",
        "        </td>\n",
        "    </tr>\n",
        "</table>"
      ]
    },
    {
      "cell_type": "markdown",
      "metadata": {
        "id": "1-hdbm70kKb9"
      },
      "source": [
        "### And please do remember to contact me if I can help\n",
        "\n",
        "And I love to connect: https://www.linkedin.com/in/eddonner/\n",
        "\n",
        "\n",
        "### New to Notebooks like this one? Head over to the guides folder!\n",
        "\n",
        "Just to check you've already added the Python and Jupyter extensions to Cursor, if not already installed:\n",
        "- Open extensions (View >> extensions)\n",
        "- Search for python, and when the results show, click on the ms-python one, and Install it if not already installed\n",
        "- Search for jupyter, and when the results show, click on the Microsoft one, and Install it if not already installed  \n",
        "Then View >> Explorer to bring back the File Explorer.\n",
        "\n",
        "And then:\n",
        "1. Click where it says \"Select Kernel\" near the top right, and select the option called `.venv (Python 3.12.9)` or similar, which should be the first choice or the most prominent choice. You may need to choose \"Python Environments\" first.\n",
        "2. Click in each \"cell\" below, starting with the cell immediately below this text, and press Shift+Enter to run\n",
        "3. Enjoy!\n",
        "\n",
        "After you click \"Select Kernel\", if there is no option like `.venv (Python 3.12.9)` then please do the following:  \n",
        "1. On Mac: From the Cursor menu, choose Settings >> VS Code Settings (NOTE: be sure to select `VSCode Settings` not `Cursor Settings`);  \n",
        "On Windows PC: From the File menu, choose Preferences >> VS Code Settings(NOTE: be sure to select `VSCode Settings` not `Cursor Settings`)  \n",
        "2. In the Settings search bar, type \"venv\"  \n",
        "3. In the field \"Path to folder with a list of Virtual Environments\" put the path to the project root, like C:\\Users\\username\\projects\\agents (on a Windows PC) or /Users/username/projects/agents (on Mac or Linux).  \n",
        "And then try again.\n",
        "\n",
        "Having problems with missing Python versions in that list? Have you ever used Anaconda before? It might be interferring. Quit Cursor, bring up a new command line, and make sure that your Anaconda environment is deactivated:    \n",
        "`conda deactivate`  \n",
        "And if you still have any problems with conda and python versions, it's possible that you will need to run this too:  \n",
        "`conda config --set auto_activate_base false`  \n",
        "and then from within the Agents directory, you should be able to run `uv python list` and see the Python 3.12 version."
      ]
    },
    {
      "cell_type": "code",
      "execution_count": 4,
      "metadata": {
        "id": "ZQsFzs8akKb-"
      },
      "outputs": [],
      "source": [
        "# First let's do an import\n",
        "from dotenv import load_dotenv\n"
      ]
    },
    {
      "cell_type": "code",
      "source": [
        "!pip install python-dotenv"
      ],
      "metadata": {
        "id": "fBd8N-MukkiB",
        "outputId": "5fce94a3-c481-4274-95fb-2191709d9855",
        "colab": {
          "base_uri": "https://localhost:8080/"
        }
      },
      "execution_count": 3,
      "outputs": [
        {
          "output_type": "stream",
          "name": "stdout",
          "text": [
            "Collecting python-dotenv\n",
            "  Downloading python_dotenv-1.1.0-py3-none-any.whl.metadata (24 kB)\n",
            "Downloading python_dotenv-1.1.0-py3-none-any.whl (20 kB)\n",
            "Installing collected packages: python-dotenv\n",
            "Successfully installed python-dotenv-1.1.0\n"
          ]
        }
      ]
    },
    {
      "cell_type": "code",
      "execution_count": 5,
      "metadata": {
        "id": "olf6rz_okKb_",
        "outputId": "e341b9d3-f8b0-4732-a660-e04bc7325b4f",
        "colab": {
          "base_uri": "https://localhost:8080/"
        }
      },
      "outputs": [
        {
          "output_type": "execute_result",
          "data": {
            "text/plain": [
              "False"
            ]
          },
          "metadata": {},
          "execution_count": 5
        }
      ],
      "source": [
        "# Next it's time to load the API keys into environment variables\n",
        "\n",
        "load_dotenv(override=True)"
      ]
    },
    {
      "cell_type": "code",
      "execution_count": 6,
      "metadata": {
        "id": "RNfcbUWlkKb_",
        "outputId": "f820642e-7055-4209-80b5-e4e851b73ee9",
        "colab": {
          "base_uri": "https://localhost:8080/"
        }
      },
      "outputs": [
        {
          "output_type": "stream",
          "name": "stdout",
          "text": [
            "OpenAI API Key not set - please head to the troubleshooting guide in the setup folder\n"
          ]
        }
      ],
      "source": [
        "# Check the keys\n",
        "\n",
        "import os\n",
        "openai_api_key = os.getenv('OPENAI_API_KEY')\n",
        "\n",
        "if openai_api_key:\n",
        "    print(f\"OpenAI API Key exists and begins {openai_api_key[:8]}\")\n",
        "else:\n",
        "    print(\"OpenAI API Key not set - please head to the troubleshooting guide in the setup folder\")\n",
        "\n"
      ]
    },
    {
      "cell_type": "code",
      "execution_count": null,
      "metadata": {
        "id": "IvokGPhJkKb_"
      },
      "outputs": [],
      "source": [
        "# And now - the all important import statement\n",
        "# If you get an import error - head over to troubleshooting guide\n",
        "\n",
        "from openai import OpenAI"
      ]
    },
    {
      "cell_type": "code",
      "execution_count": null,
      "metadata": {
        "id": "4G698EaUkKb_"
      },
      "outputs": [],
      "source": [
        "# And now we'll create an instance of the OpenAI class\n",
        "# If you're not sure what it means to create an instance of a class - head over to the guides folder!\n",
        "# If you get a NameError - head over to the guides folder to learn about NameErrors\n",
        "\n",
        "openai = OpenAI()"
      ]
    },
    {
      "cell_type": "code",
      "execution_count": null,
      "metadata": {
        "id": "EEihM25hkKb_"
      },
      "outputs": [],
      "source": [
        "# Create a list of messages in the familiar OpenAI format\n",
        "\n",
        "messages = [{\"role\": \"user\", \"content\": \"What is 2+2?\"}]"
      ]
    },
    {
      "cell_type": "code",
      "execution_count": null,
      "metadata": {
        "id": "I3D-4YlbkKcA"
      },
      "outputs": [],
      "source": [
        "# And now call it! Any problems, head to the troubleshooting guide\n",
        "# This uses GPT 4.1 nano, the incredibly cheap model\n",
        "\n",
        "response = openai.chat.completions.create(\n",
        "    model=\"gpt-4.1-nano\",\n",
        "    messages=messages\n",
        ")\n",
        "\n",
        "print(response.choices[0].message.content)\n"
      ]
    },
    {
      "cell_type": "code",
      "execution_count": null,
      "metadata": {
        "id": "eGgspbvakKcA"
      },
      "outputs": [],
      "source": [
        "# And now - let's ask for a question:\n",
        "\n",
        "question = \"Please propose a hard, challenging question to assess someone's IQ. Respond only with the question.\"\n",
        "messages = [{\"role\": \"user\", \"content\": question}]\n"
      ]
    },
    {
      "cell_type": "code",
      "execution_count": null,
      "metadata": {
        "id": "_NLCHnlFkKcA"
      },
      "outputs": [],
      "source": [
        "# ask it - this uses GPT 4.1 mini, still cheap but more powerful than nano\n",
        "\n",
        "response = openai.chat.completions.create(\n",
        "    model=\"gpt-4.1-mini\",\n",
        "    messages=messages\n",
        ")\n",
        "\n",
        "question = response.choices[0].message.content\n",
        "\n",
        "print(question)\n"
      ]
    },
    {
      "cell_type": "code",
      "execution_count": null,
      "metadata": {
        "id": "w9i3a01kkKcA"
      },
      "outputs": [],
      "source": [
        "# form a new messages list\n",
        "messages = [{\"role\": \"user\", \"content\": question}]\n"
      ]
    },
    {
      "cell_type": "code",
      "execution_count": null,
      "metadata": {
        "id": "6B7meNnqkKcA"
      },
      "outputs": [],
      "source": [
        "# Ask it again\n",
        "\n",
        "response = openai.chat.completions.create(\n",
        "    model=\"gpt-4.1-mini\",\n",
        "    messages=messages\n",
        ")\n",
        "\n",
        "answer = response.choices[0].message.content\n",
        "print(answer)\n"
      ]
    },
    {
      "cell_type": "code",
      "execution_count": null,
      "metadata": {
        "id": "Y3uu1XgtkKcA"
      },
      "outputs": [],
      "source": [
        "from IPython.display import Markdown, display\n",
        "\n",
        "display(Markdown(answer))\n",
        "\n"
      ]
    },
    {
      "cell_type": "markdown",
      "metadata": {
        "id": "6h8T7XxwkKcA"
      },
      "source": [
        "# Congratulations!\n",
        "\n",
        "That was a small, simple step in the direction of Agentic AI, with your new environment!\n",
        "\n",
        "Next time things get more interesting..."
      ]
    },
    {
      "cell_type": "markdown",
      "metadata": {
        "id": "YJy-w_GqkKcA"
      },
      "source": [
        "<table style=\"margin: 0; text-align: left; width:100%\">\n",
        "    <tr>\n",
        "        <td style=\"width: 150px; height: 150px; vertical-align: middle;\">\n",
        "            <img src=\"https://github.com/yatishkumarbn/agenticai_course/blob/main/assets/exercise.png?raw=1\" width=\"150\" height=\"150\" style=\"display: block;\" />\n",
        "        </td>\n",
        "        <td>\n",
        "            <h2 style=\"color:#ff7800;\">Exercise</h2>\n",
        "            <span style=\"color:#ff7800;\">Now try this commercial application:<br/>\n",
        "            First ask the LLM to pick a business area that might be worth exploring for an Agentic AI opportunity.<br/>\n",
        "            Then ask the LLM to present a pain-point in that industry - something challenging that might be ripe for an Agentic solution.<br/>\n",
        "            Finally have 3 third LLM call propose the Agentic AI solution.\n",
        "            </span>\n",
        "        </td>\n",
        "    </tr>\n",
        "</table>"
      ]
    },
    {
      "cell_type": "code",
      "execution_count": null,
      "metadata": {
        "id": "3WOXqyVGkKcB"
      },
      "outputs": [],
      "source": [
        "# First create the messages:\n",
        "\n",
        "messages = [{\"role\": \"user\", \"content\": \"Something here\"}]\n",
        "\n",
        "# Then make the first call:\n",
        "\n",
        "response =\n",
        "\n",
        "# Then read the business idea:\n",
        "\n",
        "business_idea = response.\n",
        "\n",
        "# And repeat!"
      ]
    },
    {
      "cell_type": "markdown",
      "metadata": {
        "id": "NW4as32ZkKcB"
      },
      "source": []
    }
  ],
  "metadata": {
    "kernelspec": {
      "display_name": ".venv",
      "language": "python",
      "name": "python3"
    },
    "language_info": {
      "codemirror_mode": {
        "name": "ipython",
        "version": 3
      },
      "file_extension": ".py",
      "mimetype": "text/x-python",
      "name": "python",
      "nbconvert_exporter": "python",
      "pygments_lexer": "ipython3",
      "version": "3.12.9"
    },
    "colab": {
      "provenance": []
    }
  },
  "nbformat": 4,
  "nbformat_minor": 0
}